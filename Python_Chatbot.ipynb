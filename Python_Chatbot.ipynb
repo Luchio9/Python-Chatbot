{
  "cells": [
    {
      "cell_type": "markdown",
      "metadata": {
        "id": "view-in-github",
        "colab_type": "text"
      },
      "source": [
        "<a href=\"https://colab.research.google.com/github/Luchio9/Python-Chatbot/blob/main/Python_Chatbot.ipynb\" target=\"_parent\"><img src=\"https://colab.research.google.com/assets/colab-badge.svg\" alt=\"Open In Colab\"/></a>"
      ]
    },
    {
      "cell_type": "code",
      "execution_count": 1,
      "metadata": {
        "colab": {
          "base_uri": "https://localhost:8080/"
        },
        "id": "iZNpWrKI2hxE",
        "outputId": "0fb5e839-1669-49c8-e814-e42418576452"
      },
      "outputs": [
        {
          "output_type": "stream",
          "name": "stdout",
          "text": [
            "Requirement already satisfied: nltk in /usr/local/lib/python3.7/dist-packages (3.2.5)\n",
            "Requirement already satisfied: six in /usr/local/lib/python3.7/dist-packages (from nltk) (1.15.0)\n"
          ]
        }
      ],
      "source": [
        "pip install nltk"
      ]
    },
    {
      "cell_type": "code",
      "execution_count": 2,
      "metadata": {
        "colab": {
          "base_uri": "https://localhost:8080/"
        },
        "id": "O5xo-UrE2qys",
        "outputId": "38195ece-9a41-4c61-c54c-df9044ac3e8c"
      },
      "outputs": [
        {
          "output_type": "stream",
          "name": "stdout",
          "text": [
            "Collecting newspaper3k\n",
            "  Downloading newspaper3k-0.2.8-py3-none-any.whl (211 kB)\n",
            "\u001b[?25l\r\u001b[K     |█▌                              | 10 kB 23.5 MB/s eta 0:00:01\r\u001b[K     |███                             | 20 kB 31.1 MB/s eta 0:00:01\r\u001b[K     |████▋                           | 30 kB 37.4 MB/s eta 0:00:01\r\u001b[K     |██████▏                         | 40 kB 34.8 MB/s eta 0:00:01\r\u001b[K     |███████▊                        | 51 kB 23.8 MB/s eta 0:00:01\r\u001b[K     |█████████▎                      | 61 kB 25.6 MB/s eta 0:00:01\r\u001b[K     |██████████▉                     | 71 kB 27.6 MB/s eta 0:00:01\r\u001b[K     |████████████▍                   | 81 kB 28.4 MB/s eta 0:00:01\r\u001b[K     |██████████████                  | 92 kB 30.6 MB/s eta 0:00:01\r\u001b[K     |███████████████▌                | 102 kB 28.4 MB/s eta 0:00:01\r\u001b[K     |█████████████████               | 112 kB 28.4 MB/s eta 0:00:01\r\u001b[K     |██████████████████▋             | 122 kB 28.4 MB/s eta 0:00:01\r\u001b[K     |████████████████████▏           | 133 kB 28.4 MB/s eta 0:00:01\r\u001b[K     |█████████████████████▊          | 143 kB 28.4 MB/s eta 0:00:01\r\u001b[K     |███████████████████████▎        | 153 kB 28.4 MB/s eta 0:00:01\r\u001b[K     |████████████████████████▉       | 163 kB 28.4 MB/s eta 0:00:01\r\u001b[K     |██████████████████████████▍     | 174 kB 28.4 MB/s eta 0:00:01\r\u001b[K     |████████████████████████████    | 184 kB 28.4 MB/s eta 0:00:01\r\u001b[K     |█████████████████████████████▌  | 194 kB 28.4 MB/s eta 0:00:01\r\u001b[K     |███████████████████████████████ | 204 kB 28.4 MB/s eta 0:00:01\r\u001b[K     |████████████████████████████████| 211 kB 28.4 MB/s \n",
            "\u001b[?25hCollecting feedparser>=5.2.1\n",
            "  Downloading feedparser-6.0.8-py3-none-any.whl (81 kB)\n",
            "\u001b[?25l\r\u001b[K     |████                            | 10 kB 39.2 MB/s eta 0:00:01\r\u001b[K     |████████                        | 20 kB 46.8 MB/s eta 0:00:01\r\u001b[K     |████████████▏                   | 30 kB 56.8 MB/s eta 0:00:01\r\u001b[K     |████████████████▏               | 40 kB 62.1 MB/s eta 0:00:01\r\u001b[K     |████████████████████▏           | 51 kB 56.7 MB/s eta 0:00:01\r\u001b[K     |████████████████████████▎       | 61 kB 57.3 MB/s eta 0:00:01\r\u001b[K     |████████████████████████████▎   | 71 kB 57.4 MB/s eta 0:00:01\r\u001b[K     |████████████████████████████████| 81 kB 10.6 MB/s \n",
            "\u001b[?25hCollecting tinysegmenter==0.3\n",
            "  Downloading tinysegmenter-0.3.tar.gz (16 kB)\n",
            "Requirement already satisfied: nltk>=3.2.1 in /usr/local/lib/python3.7/dist-packages (from newspaper3k) (3.2.5)\n",
            "Requirement already satisfied: beautifulsoup4>=4.4.1 in /usr/local/lib/python3.7/dist-packages (from newspaper3k) (4.6.3)\n",
            "Collecting jieba3k>=0.35.1\n",
            "  Downloading jieba3k-0.35.1.zip (7.4 MB)\n",
            "\u001b[K     |████████████████████████████████| 7.4 MB 49.3 MB/s \n",
            "\u001b[?25hRequirement already satisfied: Pillow>=3.3.0 in /usr/local/lib/python3.7/dist-packages (from newspaper3k) (7.1.2)\n",
            "Collecting cssselect>=0.9.2\n",
            "  Downloading cssselect-1.1.0-py2.py3-none-any.whl (16 kB)\n",
            "Requirement already satisfied: PyYAML>=3.11 in /usr/local/lib/python3.7/dist-packages (from newspaper3k) (3.13)\n",
            "Requirement already satisfied: lxml>=3.6.0 in /usr/local/lib/python3.7/dist-packages (from newspaper3k) (4.2.6)\n",
            "Collecting tldextract>=2.0.1\n",
            "  Downloading tldextract-3.2.0-py3-none-any.whl (87 kB)\n",
            "\u001b[K     |████████████████████████████████| 87 kB 7.0 MB/s \n",
            "\u001b[?25hCollecting feedfinder2>=0.0.4\n",
            "  Downloading feedfinder2-0.0.4.tar.gz (3.3 kB)\n",
            "Requirement already satisfied: python-dateutil>=2.5.3 in /usr/local/lib/python3.7/dist-packages (from newspaper3k) (2.8.2)\n",
            "Requirement already satisfied: requests>=2.10.0 in /usr/local/lib/python3.7/dist-packages (from newspaper3k) (2.23.0)\n",
            "Requirement already satisfied: six in /usr/local/lib/python3.7/dist-packages (from feedfinder2>=0.0.4->newspaper3k) (1.15.0)\n",
            "Collecting sgmllib3k\n",
            "  Downloading sgmllib3k-1.0.0.tar.gz (5.8 kB)\n",
            "Requirement already satisfied: urllib3!=1.25.0,!=1.25.1,<1.26,>=1.21.1 in /usr/local/lib/python3.7/dist-packages (from requests>=2.10.0->newspaper3k) (1.24.3)\n",
            "Requirement already satisfied: chardet<4,>=3.0.2 in /usr/local/lib/python3.7/dist-packages (from requests>=2.10.0->newspaper3k) (3.0.4)\n",
            "Requirement already satisfied: certifi>=2017.4.17 in /usr/local/lib/python3.7/dist-packages (from requests>=2.10.0->newspaper3k) (2021.10.8)\n",
            "Requirement already satisfied: idna<3,>=2.5 in /usr/local/lib/python3.7/dist-packages (from requests>=2.10.0->newspaper3k) (2.10)\n",
            "Collecting requests-file>=1.4\n",
            "  Downloading requests_file-1.5.1-py2.py3-none-any.whl (3.7 kB)\n",
            "Requirement already satisfied: filelock>=3.0.8 in /usr/local/lib/python3.7/dist-packages (from tldextract>=2.0.1->newspaper3k) (3.6.0)\n",
            "Building wheels for collected packages: tinysegmenter, feedfinder2, jieba3k, sgmllib3k\n",
            "  Building wheel for tinysegmenter (setup.py) ... \u001b[?25l\u001b[?25hdone\n",
            "  Created wheel for tinysegmenter: filename=tinysegmenter-0.3-py3-none-any.whl size=13553 sha256=a23d3b2f115a3e2e777f02225964a5a50342b2c37d016aad79ac9ebb12854a63\n",
            "  Stored in directory: /root/.cache/pip/wheels/df/67/41/faca10fa501ca010be41b49d40360c2959e1c4f09bcbfa37fa\n",
            "  Building wheel for feedfinder2 (setup.py) ... \u001b[?25l\u001b[?25hdone\n",
            "  Created wheel for feedfinder2: filename=feedfinder2-0.0.4-py3-none-any.whl size=3357 sha256=583969edb4989fd75520c6d3f0e918e96c01fe086c135aefb087fbf76b669654\n",
            "  Stored in directory: /root/.cache/pip/wheels/7f/d4/8f/6e2ca54744c9d7292d88ddb8d42876bcdab5e6d84a21c10346\n",
            "  Building wheel for jieba3k (setup.py) ... \u001b[?25l\u001b[?25hdone\n",
            "  Created wheel for jieba3k: filename=jieba3k-0.35.1-py3-none-any.whl size=7398404 sha256=1e47ba26c665d68530b887e5984eb1e50df211ed17cae117f021f4f51d0c37d5\n",
            "  Stored in directory: /root/.cache/pip/wheels/4c/91/46/3c208287b726df325a5979574324878b679116e4baae1af3c3\n",
            "  Building wheel for sgmllib3k (setup.py) ... \u001b[?25l\u001b[?25hdone\n",
            "  Created wheel for sgmllib3k: filename=sgmllib3k-1.0.0-py3-none-any.whl size=6066 sha256=966af935eec13306c64828e7bcbe10e208996e79dce688c0aa062daf0da01911\n",
            "  Stored in directory: /root/.cache/pip/wheels/73/ad/a4/0dff4a6ef231fc0dfa12ffbac2a36cebfdddfe059f50e019aa\n",
            "Successfully built tinysegmenter feedfinder2 jieba3k sgmllib3k\n",
            "Installing collected packages: sgmllib3k, requests-file, tldextract, tinysegmenter, jieba3k, feedparser, feedfinder2, cssselect, newspaper3k\n",
            "Successfully installed cssselect-1.1.0 feedfinder2-0.0.4 feedparser-6.0.8 jieba3k-0.35.1 newspaper3k-0.2.8 requests-file-1.5.1 sgmllib3k-1.0.0 tinysegmenter-0.3 tldextract-3.2.0\n"
          ]
        }
      ],
      "source": [
        "pip install newspaper3k"
      ]
    },
    {
      "cell_type": "code",
      "execution_count": null,
      "metadata": {
        "id": "4QYMzVVQ4rWc"
      },
      "outputs": [],
      "source": [
        "#Import the libraries\n",
        "from newspaper import Article\n",
        "import random\n",
        "import string\n",
        "import nltk\n",
        "from sklearn.feature_extraction.text import CountVectorizer\n",
        "from sklearn.metrics.pairwise import cosine_similarity\n",
        "import numpy as np\n",
        "import warnings\n",
        "warnings.filterwarnings('ignore')"
      ]
    },
    {
      "cell_type": "code",
      "execution_count": null,
      "metadata": {
        "colab": {
          "base_uri": "https://localhost:8080/"
        },
        "id": "f7OzZ5UE4yvs",
        "outputId": "c4b6c839-e7ea-4ebd-ecb4-f591ea0e5bd0"
      },
      "outputs": [
        {
          "output_type": "execute_result",
          "data": {
            "text/plain": [
              "True"
            ]
          },
          "metadata": {},
          "execution_count": 5
        }
      ],
      "source": [
        "#Download the punkt package\n",
        "nltk.download('punkt', quiet=True)"
      ]
    },
    {
      "cell_type": "code",
      "execution_count": null,
      "metadata": {
        "id": "qYNDKbtW440Q"
      },
      "outputs": [],
      "source": [
        "#Get the article\n",
        "article = Article('https://netdoktor.dk/sygdomme/fakta/influenza.htm')\n",
        "article = Article('https://netdoktor.dk/sygdomme/fakta/diabetes.htm')\n",
        "article.download()\n",
        "article.parse()\n",
        "article.nlp()\n",
        "corpus = article.text"
      ]
    },
    {
      "cell_type": "code",
      "execution_count": null,
      "metadata": {
        "colab": {
          "base_uri": "https://localhost:8080/"
        },
        "id": "yk_suYxL5nTy",
        "outputId": "d51ceeab-a1ce-468e-f5f1-40a43cb5555d"
      },
      "outputs": [
        {
          "output_type": "stream",
          "name": "stdout",
          "text": [
            "Influenza\n",
            "\n",
            "Hvad er Influenza?\n",
            "\n",
            "Influenza er en virussygdom, som giver ømhed i muskler og led, hovedpine og feber mellem 38 og 40 grader. Den varer normalt tre til fem dage, men man kan godt være træt efterfølgende. Influenza er særlig udbredt i vinterhalvåret.\n",
            "\n",
            "Influenza skyldes en virus og kan derfor ikke helbredes med penicillin. Sørg i stedet for ro og hvile samt rigeligt at drikke.\n",
            "\n",
            "Man kan blive vaccineret mod influenza. Det tilråder man især mennesker over 65 år, gravide, personer med sygdomme i hjerte og lunger samt personer i sundhedssektoren. Fra efteråret 2021 tilbydes også influenzavaccination af 2-6-årige børn, da børnene let smitter andre og selv kan få komplikationer som mellemørebetændelse og lungebetændelse.\n",
            "\n",
            "Man kan blive behandlet for influenza med lægemidlet Tamiflu. Det skal tages i starten af sygdomsperioden og bruges især til ældre og personer med nedsat immunforsvar, som kan blive meget hårdt ramt af influenza. Læs mere i afsnittet 'Kan man blive behandlet for influenza?'\n",
            "\n",
            "Læs også: 10 råd til at forebygge influenza\n",
            "\n",
            "Hvordan smitter influenza?\n",
            "\n",
            "Influenzavirus spredes gennem luften ved menneskeligt samvær. Sygdommen smitter via næse , hals eller lunger og via hænder, hvis de bliver forurenede med virus ved hoste eller nys.\n",
            "\n",
            "Man kan bære smitten videre til andre allerede dagen før, man selv får symptomerne. Og man viderefører smitten, indtil en dag efter at ens egen feber er forsvundet. Mindre børn kan smitte flere dage efter, at de er blevet raske.\n",
            "\n",
            "Hvornår er der sæson for influenza og hvad er influenza-vaccine?\n",
            "\n",
            "Sæson for influenza er sent efterår og vinter, i troperne hele året og syd for ækvator i deres vinter (som er vores sommer).\n",
            "\n",
            "Influenza-virus varierer fra år til år. Influenza-vaccinen bliver derfor fremstillet på ny hvert år efter WHO's oplysninger om aktuelle virus fra den sydlige halvkugle. Det er som regel disse virus, vi kan forvente næste sæson på vores breddegrader.\n",
            "\n",
            "Influenza-vaccinen beskytter omkring seks måneder og skal tages i oktober, inden influenza-sæsonen begynder. Vaccinen har virkning cirka to uger efter vaccinationen.\n",
            "\n",
            "Hvad er tegnene på influenza?\n",
            "\n",
            "hovedpine\n",
            "\n",
            "feber omkring 38 til 40 grader\n",
            "\n",
            "ømme muskler og led, samt brystsmerter\n",
            "\n",
            "mangel på appetit\n",
            "\n",
            "træthed og svaghedsfølelse\n",
            "\n",
            "løbende næse og øm hals og svælg\n",
            "\n",
            "eventuelt tør hoste og urolig søvn\n",
            "\n",
            "man fryser og har kuldegysninger.\n",
            "\n",
            "Hvad kan man selv gøre?\n",
            "\n",
            "Drik meget, da man taber væske under feber\n",
            "\n",
            "Hold dig i ro, gerne i sengen\n",
            "\n",
            "Sov meget.\n",
            "\n",
            "Undgå at ryge og drikke alkohol , da dette kan forlænge sygdomsperioden\n",
            "\n",
            "Tag eventuelt hostemedicin. Man sover bedst, hvis søvnen er uforstyrret af hoste\n",
            "\n",
            "Tag eventuelt febernedsættende og smertestillende medicin. Husk dog at holde dig i ro, selvom du føler dig bedre tilpas\n",
            "\n",
            "Bliv inden døre og forkæl dig selv, indtil sygdommen er overstået\n",
            "\n",
            "Søg læge, hvis symptomerne ikke aftager efter en uge.\n",
            "\n",
            "Influenza kan kompliceres af andre bakterielle infektioner, såsom lungebetændelse, mellemørebetændelse og bihulebetændelse og derfor skal man passe på sig selv, mens sygdommen står på.\n",
            "\n",
            "Man skal også undgå at smitte andre. Tænk på at:\n",
            "\n",
            "nyse/hoste ned i et lommetørklæde eller i albuebøjningen\n",
            "\n",
            "vaske hænder eller bruge håndsprit hyppigt, da influenza smitter med dråber fra mund og næse og via hænderne, hvis man har fået sekret fra mund eller næse på dem.\n",
            "\n",
            "Kan man blive behandlet for influenza?\n",
            "\n",
            "Influenza skyldes en virus og kan derfor ikke helbredes med penicillin.\n",
            "\n",
            "Hvis man tilhører en risikogruppe eller er indlagt med influenza type A og B (læs om influenzatyperne i næste afsnit) vil man efter lægens vurdering ofte blive behandlet med et stof, der er aktivt mod influenzavirus. Det virksomme stof, oseltamivir (i Danmark hedder lægemidlet Tamiflu), hæmmer influenzavirusspredning til nye celler i luftvejene. Tamiflu mildner derfor symptomerne og forkorter sygdomstiden, hvis det tages inden for de to første døgn af sygdommen. Tages Tamiflu senere, er effekten mindre.\n",
            "\n",
            "Tamiflu kan også bruges til forebyggelse af influenza i særlige situationer, f.eks. hvis en ikke-vaccineret person tilhørende en risikogruppe, bliver udsat for smitte fra sin husstand.\n",
            "\n",
            "Influenza varer som regel tre til fem dage. Influenza, der varer over en uge, kan være et tegn på, at sygdommen er blevet kompliceret af bakterieinfektioner i form af bihulebetændelse , mellemørebetændelse , lungebetændelse I så fald kan lægen ordinere antibiotika som f.eks. penicillin.\n",
            "\n",
            "Hvilke influenza-typer finder der?\n",
            "\n",
            "Der findes tre slags influenza:\n",
            "\n",
            "Type A\n",
            "\n",
            "Type A er den hyppigste og alvorligste med kraftige symptomer. Den dukker som regel op hvert andet eller hvert tredje år. Influenza A (H1N1 eller H3N2) og fugleinfluenza (H5N1) er eksempler på influenza A undertyper. I Kina er der cirkulation af fugleinfluenza H7N9 hvor der siden september 2016 er konstateret smitte af mennesker fra levende fjerkræ på fjerkræ markeder, men ikke mellem mennesker.\n",
            "\n",
            "Type B\n",
            "\n",
            "Type B har de samme symptomer, men som regel ikke så kraftige. Dukker op hvert fjerde eller femte år.\n",
            "\n",
            "Type C\n",
            "\n",
            "Type C er den milde udgave med symptomer tættere på forkølelse. Den giver sjældent epidemier, men optræder sporadisk. Det vil sige, at der er spredte tilfælde uden sikker smittesammenhæng.\n",
            "\n",
            "Der kan godt samtidig være flere influenza-typer og -undertyper i et land. I vintersæsonen 2015-16 dominerede influenza A type N1H1, og der var en del influenza B. I vintersæsonen 2016-17 dominerede influenza A type H3N2, og der var kun få influenza B. H3N2 giver alvorlige infektioner hos ældre og der var mange indlæggelser, heraf nogle på intensiv afdeling. I vintersæsonen 2017-18 er der en række infektioner i omløb samtidig: influenza A-undertype H1N1 og undertype H3N2 samt influenza B-epidemier. I 2021-2022 sæsonen indgår 2 forskellige influenza A-typer og 2 forskellige influenza B-typer i vaccinen. Desuden er der andre virusinfektioner, der giver lignende symptomer (Respiratory Syncytial Virus = RSV). Ingen af disse infektioner giver immunitet mod de andre infektioner, så man kan godt få influenza-lignende sygdom flere gange på en sæson.\n",
            "\n",
            "Hvad er influenza-epidemier?\n",
            "\n",
            "En influenza-epidemi opstår, når der opstår et nyt influenza-virus, som befolkningen ikke er modstandsdygtig overfor.\n",
            "\n",
            "Influenza kan ofte udvikle sig til en epidemi, der kan spredes fra by til by og fra land til land. Et område kan have epidemiske tilstande i typisk fire til seks uger, inden det aftager.\n",
            "\n",
            "Man får sjældent den samme influenza-variant to gange, fordi man to til fire uger efter sygdommen udvikler modstandsdygtige antistoffer mod den. Men influenzaen udvikler sig hele tiden til nye varianter (eksempelvis svineinfluenza). Dette sker ved mutationer, som forårsager nyopståede genetiske forandringer (= ændringer i virus-arveanlæg) i virus, eller ved at kendte influenzavirus fra fugle eller svin blandes med influenzavirus fra mennesker. I sådanne tilfælde er der ikke immunitet (modstandsdygtighed) i befolkningen mod det nye influenzavirus, hvorfor større epidemier kan opstå.\n",
            "\n",
            "Hvert år søger man ved internationalt samarbejde (WHO) at fremstille en vaccine mod nyopståede influenzavirus. Siden slutningen af 1990'erne har en ny variant af influenza A ( fugleinfluenzaen H5N1) forårsaget store epidemier blandt hønse- og andefugle især i Asien (Kina, Thailand, Vietnam, Indonesien) men også i Afrika, hvorfra mennesker i et mindre antal tilfælde er blevet smittet, og nogle er døde. Smitten har spredt sig med trækfugle til lokale hønse- og andefugle i flere andre lande også i Europa og Afrika, hvorfor WHO har taget forholdsregler for at forebygge en ny verdensomspændende epidemi (pandemi). Disse forholdsregler følges også i Danmark.\n",
            "\n",
            "Hvem er særligt udsatte?\n",
            "\n",
            "Ældre mennesker\n",
            "\n",
            "Influenza kan være farlig for ældre mennesker. Især ældre på plejehjem og folk med lunge- og kredsløbs-sygdomme bør lade sig vaccinere én gang årligt mod influenza for at undgå, at influenzaen kan blive starten på en ond cirkel af andre sygdomme.\n",
            "\n",
            "Personale på sygehuse og plejehjem\n",
            "\n",
            "Personalet kan let blive smittet af influenzapatienter og så videreføre smitten til andre patienter, inden de selv bliver sygemeldt.\n",
            "\n",
            "Gravide\n",
            "\n",
            "Influenza kan også være ubehagelig for gravide, fordi de ofte bliver mere syge end ikke-gravide. Influenza er dog ikke farlig for fosterudviklingen og giver for eksempel ikke misdannelser. Dog viser internationale undersøgelser, at gravide i 2. og 3. trimester har øget risiko for abort eller for tidlig fødsel. Som gravid har man også en øget risiko for, at der opstår andre sygdomme som for eksempel lungebetændelse i forbindelse med influenzaen. Derfor anbefaler Sundhedsstyrelsen, at gravide efter 1. trimester (12. uge) lader sig vaccinere mod influenza. Risikoen for komplikationer er større, hvis man samtidig har en kronisk sygdom som nedsat lungefunktion, astma, hjertekarsygdom, diabetes, nedsat immunforsvar eller er svært overvægtig, og derfor kan denne gruppe gravide allerede blive vaccineret i 1. trimester.\n",
            "\n",
            "Da influenzatyperne hele tiden ændres, er det nødvendigt at gøre det til et fast årligt ritual at få vaccinen, hvis man er i risikogruppen eller ansat i sundhedsvæsenet. Hvis man er i tvivl, kan man spørge sin læge.\n",
            "\n",
            "Læs mere om INFLUENZA\n",
            "\n",
            "Medicin som kan anvendes\n"
          ]
        }
      ],
      "source": [
        "#Print the articles text\n",
        "print(corpus)"
      ]
    },
    {
      "cell_type": "code",
      "execution_count": null,
      "metadata": {
        "id": "vxi4jB4D5wui"
      },
      "outputs": [],
      "source": [
        "#Tokenization\n",
        "text = corpus\n",
        "sentence_list = nltk.sent_tokenize(text) # A list of sentences"
      ]
    },
    {
      "cell_type": "code",
      "execution_count": null,
      "metadata": {
        "colab": {
          "base_uri": "https://localhost:8080/"
        },
        "id": "ZzBe-wsA559b",
        "outputId": "6202d89c-fce0-46ee-fd1a-b78d4ec850fe"
      },
      "outputs": [
        {
          "output_type": "stream",
          "name": "stdout",
          "text": [
            "['Influenza\\n\\nHvad er Influenza?', 'Influenza er en virussygdom, som giver ømhed i muskler og led, hovedpine og feber mellem 38 og 40 grader.', 'Den varer normalt tre til fem dage, men man kan godt være træt efterfølgende.', 'Influenza er særlig udbredt i vinterhalvåret.', 'Influenza skyldes en virus og kan derfor ikke helbredes med penicillin.', 'Sørg i stedet for ro og hvile samt rigeligt at drikke.', 'Man kan blive vaccineret mod influenza.', 'Det tilråder man især mennesker over 65 år, gravide, personer med sygdomme i hjerte og lunger samt personer i sundhedssektoren.', 'Fra efteråret 2021 tilbydes også influenzavaccination af 2-6-årige børn, da børnene let smitter andre og selv kan få komplikationer som mellemørebetændelse og lungebetændelse.', 'Man kan blive behandlet for influenza med lægemidlet Tamiflu.', 'Det skal tages i starten af sygdomsperioden og bruges især til ældre og personer med nedsat immunforsvar, som kan blive meget hårdt ramt af influenza.', \"Læs mere i afsnittet 'Kan man blive behandlet for influenza?'\", 'Læs også: 10 råd til at forebygge influenza\\n\\nHvordan smitter influenza?', 'Influenzavirus spredes gennem luften ved menneskeligt samvær.', 'Sygdommen smitter via næse , hals eller lunger og via hænder, hvis de bliver forurenede med virus ved hoste eller nys.', 'Man kan bære smitten videre til andre allerede dagen før, man selv får symptomerne.', 'Og man viderefører smitten, indtil en dag efter at ens egen feber er forsvundet.', 'Mindre børn kan smitte flere dage efter, at de er blevet raske.', 'Hvornår er der sæson for influenza og hvad er influenza-vaccine?', 'Sæson for influenza er sent efterår og vinter, i troperne hele året og syd for ækvator i deres vinter (som er vores sommer).', 'Influenza-virus varierer fra år til år.', \"Influenza-vaccinen bliver derfor fremstillet på ny hvert år efter WHO's oplysninger om aktuelle virus fra den sydlige halvkugle.\", 'Det er som regel disse virus, vi kan forvente næste sæson på vores breddegrader.', 'Influenza-vaccinen beskytter omkring seks måneder og skal tages i oktober, inden influenza-sæsonen begynder.', 'Vaccinen har virkning cirka to uger efter vaccinationen.', 'Hvad er tegnene på influenza?', 'hovedpine\\n\\nfeber omkring 38 til 40 grader\\n\\nømme muskler og led, samt brystsmerter\\n\\nmangel på appetit\\n\\ntræthed og svaghedsfølelse\\n\\nløbende næse og øm hals og svælg\\n\\neventuelt tør hoste og urolig søvn\\n\\nman fryser og har kuldegysninger.', 'Hvad kan man selv gøre?', 'Drik meget, da man taber væske under feber\\n\\nHold dig i ro, gerne i sengen\\n\\nSov meget.', 'Undgå at ryge og drikke alkohol , da dette kan forlænge sygdomsperioden\\n\\nTag eventuelt hostemedicin.', 'Man sover bedst, hvis søvnen er uforstyrret af hoste\\n\\nTag eventuelt febernedsættende og smertestillende medicin.', 'Husk dog at holde dig i ro, selvom du føler dig bedre tilpas\\n\\nBliv inden døre og forkæl dig selv, indtil sygdommen er overstået\\n\\nSøg læge, hvis symptomerne ikke aftager efter en uge.', 'Influenza kan kompliceres af andre bakterielle infektioner, såsom lungebetændelse, mellemørebetændelse og bihulebetændelse og derfor skal man passe på sig selv, mens sygdommen står på.', 'Man skal også undgå at smitte andre.', 'Tænk på at:\\n\\nnyse/hoste ned i et lommetørklæde eller i albuebøjningen\\n\\nvaske hænder eller bruge håndsprit hyppigt, da influenza smitter med dråber fra mund og næse og via hænderne, hvis man har fået sekret fra mund eller næse på dem.', 'Kan man blive behandlet for influenza?', 'Influenza skyldes en virus og kan derfor ikke helbredes med penicillin.', 'Hvis man tilhører en risikogruppe eller er indlagt med influenza type A og B (læs om influenzatyperne i næste afsnit) vil man efter lægens vurdering ofte blive behandlet med et stof, der er aktivt mod influenzavirus.', 'Det virksomme stof, oseltamivir (i Danmark hedder lægemidlet Tamiflu), hæmmer influenzavirusspredning til nye celler i luftvejene.', 'Tamiflu mildner derfor symptomerne og forkorter sygdomstiden, hvis det tages inden for de to første døgn af sygdommen.', 'Tages Tamiflu senere, er effekten mindre.', 'Tamiflu kan også bruges til forebyggelse af influenza i særlige situationer, f.eks.', 'hvis en ikke-vaccineret person tilhørende en risikogruppe, bliver udsat for smitte fra sin husstand.', 'Influenza varer som regel tre til fem dage.', 'Influenza, der varer over en uge, kan være et tegn på, at sygdommen er blevet kompliceret af bakterieinfektioner i form af bihulebetændelse , mellemørebetændelse , lungebetændelse I så fald kan lægen ordinere antibiotika som f.eks.', 'penicillin.', 'Hvilke influenza-typer finder der?', 'Der findes tre slags influenza:\\n\\nType A\\n\\nType A er den hyppigste og alvorligste med kraftige symptomer.', 'Den dukker som regel op hvert andet eller hvert tredje år.', 'Influenza A (H1N1 eller H3N2) og fugleinfluenza (H5N1) er eksempler på influenza A undertyper.', 'I Kina er der cirkulation af fugleinfluenza H7N9 hvor der siden september 2016 er konstateret smitte af mennesker fra levende fjerkræ på fjerkræ markeder, men ikke mellem mennesker.', 'Type B\\n\\nType B har de samme symptomer, men som regel ikke så kraftige.', 'Dukker op hvert fjerde eller femte år.', 'Type C\\n\\nType C er den milde udgave med symptomer tættere på forkølelse.', 'Den giver sjældent epidemier, men optræder sporadisk.', 'Det vil sige, at der er spredte tilfælde uden sikker smittesammenhæng.', 'Der kan godt samtidig være flere influenza-typer og -undertyper i et land.', 'I vintersæsonen 2015-16 dominerede influenza A type N1H1, og der var en del influenza B. I vintersæsonen 2016-17 dominerede influenza A type H3N2, og der var kun få influenza B. H3N2 giver alvorlige infektioner hos ældre og der var mange indlæggelser, heraf nogle på intensiv afdeling.', 'I vintersæsonen 2017-18 er der en række infektioner i omløb samtidig: influenza A-undertype H1N1 og undertype H3N2 samt influenza B-epidemier.', 'I 2021-2022 sæsonen indgår 2 forskellige influenza A-typer og 2 forskellige influenza B-typer i vaccinen.', 'Desuden er der andre virusinfektioner, der giver lignende symptomer (Respiratory Syncytial Virus = RSV).', 'Ingen af disse infektioner giver immunitet mod de andre infektioner, så man kan godt få influenza-lignende sygdom flere gange på en sæson.', 'Hvad er influenza-epidemier?', 'En influenza-epidemi opstår, når der opstår et nyt influenza-virus, som befolkningen ikke er modstandsdygtig overfor.', 'Influenza kan ofte udvikle sig til en epidemi, der kan spredes fra by til by og fra land til land.', 'Et område kan have epidemiske tilstande i typisk fire til seks uger, inden det aftager.', 'Man får sjældent den samme influenza-variant to gange, fordi man to til fire uger efter sygdommen udvikler modstandsdygtige antistoffer mod den.', 'Men influenzaen udvikler sig hele tiden til nye varianter (eksempelvis svineinfluenza).', 'Dette sker ved mutationer, som forårsager nyopståede genetiske forandringer (= ændringer i virus-arveanlæg) i virus, eller ved at kendte influenzavirus fra fugle eller svin blandes med influenzavirus fra mennesker.', 'I sådanne tilfælde er der ikke immunitet (modstandsdygtighed) i befolkningen mod det nye influenzavirus, hvorfor større epidemier kan opstå.', 'Hvert år søger man ved internationalt samarbejde (WHO) at fremstille en vaccine mod nyopståede influenzavirus.', \"Siden slutningen af 1990'erne har en ny variant af influenza A ( fugleinfluenzaen H5N1) forårsaget store epidemier blandt hønse- og andefugle især i Asien (Kina, Thailand, Vietnam, Indonesien) men også i Afrika, hvorfra mennesker i et mindre antal tilfælde er blevet smittet, og nogle er døde.\", 'Smitten har spredt sig med trækfugle til lokale hønse- og andefugle i flere andre lande også i Europa og Afrika, hvorfor WHO har taget forholdsregler for at forebygge en ny verdensomspændende epidemi (pandemi).', 'Disse forholdsregler følges også i Danmark.', 'Hvem er særligt udsatte?', 'Ældre mennesker\\n\\nInfluenza kan være farlig for ældre mennesker.', 'Især ældre på plejehjem og folk med lunge- og kredsløbs-sygdomme bør lade sig vaccinere én gang årligt mod influenza for at undgå, at influenzaen kan blive starten på en ond cirkel af andre sygdomme.', 'Personale på sygehuse og plejehjem\\n\\nPersonalet kan let blive smittet af influenzapatienter og så videreføre smitten til andre patienter, inden de selv bliver sygemeldt.', 'Gravide\\n\\nInfluenza kan også være ubehagelig for gravide, fordi de ofte bliver mere syge end ikke-gravide.', 'Influenza er dog ikke farlig for fosterudviklingen og giver for eksempel ikke misdannelser.', 'Dog viser internationale undersøgelser, at gravide i 2. og 3. trimester har øget risiko for abort eller for tidlig fødsel.', 'Som gravid har man også en øget risiko for, at der opstår andre sygdomme som for eksempel lungebetændelse i forbindelse med influenzaen.', 'Derfor anbefaler Sundhedsstyrelsen, at gravide efter 1. trimester (12. uge) lader sig vaccinere mod influenza.', 'Risikoen for komplikationer er større, hvis man samtidig har en kronisk sygdom som nedsat lungefunktion, astma, hjertekarsygdom, diabetes, nedsat immunforsvar eller er svært overvægtig, og derfor kan denne gruppe gravide allerede blive vaccineret i 1. trimester.', 'Da influenzatyperne hele tiden ændres, er det nødvendigt at gøre det til et fast årligt ritual at få vaccinen, hvis man er i risikogruppen eller ansat i sundhedsvæsenet.', 'Hvis man er i tvivl, kan man spørge sin læge.', 'Læs mere om INFLUENZA\\n\\nMedicin som kan anvendes']\n"
          ]
        }
      ],
      "source": [
        "#Print the list of sentences\n",
        "print(sentence_list)"
      ]
    },
    {
      "cell_type": "code",
      "execution_count": null,
      "metadata": {
        "id": "JhQ5VDNg7-Ft"
      },
      "outputs": [],
      "source": [
        "# A function to return a random greeting response to a users greeting\n",
        "def greeting_response(text):\n",
        "  text = text.lower()\n",
        "\n",
        "  #Bots greeting reponse\n",
        "  bot_greetings = ['Hej', 'Halløj', 'Hejsa', 'Goddag']\n",
        "  #Users greeting\n",
        "  user_greetings = ['Hej', 'Halløj', 'Hejsa', 'Goddag', 'Hvad så', 'Hva så']\n",
        "\n",
        "\n",
        "  for word in text.split():\n",
        "    if word in user_greetings:\n",
        "      return random.choice(bot_greetings)"
      ]
    },
    {
      "cell_type": "code",
      "execution_count": null,
      "metadata": {
        "id": "WDO1T0xrBCdn"
      },
      "outputs": [],
      "source": [
        "def index_sort (list_var):\n",
        "  length = len(list_var)\n",
        "  list_index = list(range(0, length))\n",
        "\n",
        "  x = list_var\n",
        "  for i in range(length):\n",
        "    for j in range(length):\n",
        "      if x[list_index[i]] > x[list_index[j]]:\n",
        "        #Swap\n",
        "        temp = list_index[i]\n",
        "        list_index[i] = list_index[j]\n",
        "        list_index[j] = temp\n",
        "        \n",
        "        return list_index"
      ]
    },
    {
      "cell_type": "code",
      "execution_count": null,
      "metadata": {
        "id": "qmrB-GoQ9dqL"
      },
      "outputs": [],
      "source": [
        "#Create the bots response\n",
        "def bot_response(user_input):\n",
        "  user_input = user_input.lower()\n",
        "  sentence_list.append(user_input)\n",
        "  bot_response = ''\n",
        "  cm = CountVectorizer().fit_transform(sentence_list)\n",
        "  similarity_scores = cosine_similarity(cm[-1], cm)\n",
        "  similarity_scores_list = similarity_scores.flatten()\n",
        "  index = index_sort(similarity_scores_list)\n",
        "  index = index[1:]\n",
        "  response_flag = 0\n",
        "\n",
        "  j = 0\n",
        "  for i in range(len(index)):\n",
        "    if similarity_scores_list[index[i]] > 0.0:\n",
        "      bot_response = bot_response+' '+sentence_list[index[i]]\n",
        "      response_flag = 1\n",
        "      j = j+1\n",
        "    if j > 2:\n",
        "      break\n",
        "\n",
        "  if response_flag == 0:\n",
        "    bot_response = bot_response+' '+\"Beklager, jeg forstår ikke.\"\n",
        "\n",
        "  sentence_list.remove(user_input)\n",
        "\n",
        "  return bot_response"
      ]
    },
    {
      "cell_type": "code",
      "execution_count": null,
      "metadata": {
        "colab": {
          "base_uri": "https://localhost:8080/",
          "height": 725
        },
        "id": "tbqOe80REak2",
        "outputId": "99c67827-91af-49c7-95ce-59bc7bcb6049"
      },
      "outputs": [
        {
          "output_type": "stream",
          "name": "stdout",
          "text": [
            "Doc bot: Jeg kan svare på dine spørgsmål om forskellige sygdomme. Hvis du vil stoppe samtalen, skriv farvel.\n",
            "hvad er influenza\n",
            "Doc bot:  Influenza\n",
            "\n",
            "Hvad er Influenza? Influenza er særlig udbredt i vinterhalvåret. Influenza skyldes en virus og kan derfor ikke helbredes med penicillin.\n",
            "hvad er diabetes\n",
            "Doc bot:  Influenza\n",
            "\n",
            "Hvad er Influenza? Influenza er særlig udbredt i vinterhalvåret. Og man viderefører smitten, indtil en dag efter at ens egen feber er forsvundet.\n"
          ]
        },
        {
          "output_type": "error",
          "ename": "KeyboardInterrupt",
          "evalue": "ignored",
          "traceback": [
            "\u001b[0;31m---------------------------------------------------------------------------\u001b[0m",
            "\u001b[0;31mKeyboardInterrupt\u001b[0m                         Traceback (most recent call last)",
            "\u001b[0;32m/usr/local/lib/python3.7/dist-packages/ipykernel/kernelbase.py\u001b[0m in \u001b[0;36m_input_request\u001b[0;34m(self, prompt, ident, parent, password)\u001b[0m\n\u001b[1;32m    728\u001b[0m             \u001b[0;32mtry\u001b[0m\u001b[0;34m:\u001b[0m\u001b[0;34m\u001b[0m\u001b[0;34m\u001b[0m\u001b[0m\n\u001b[0;32m--> 729\u001b[0;31m                 \u001b[0mident\u001b[0m\u001b[0;34m,\u001b[0m \u001b[0mreply\u001b[0m \u001b[0;34m=\u001b[0m \u001b[0mself\u001b[0m\u001b[0;34m.\u001b[0m\u001b[0msession\u001b[0m\u001b[0;34m.\u001b[0m\u001b[0mrecv\u001b[0m\u001b[0;34m(\u001b[0m\u001b[0mself\u001b[0m\u001b[0;34m.\u001b[0m\u001b[0mstdin_socket\u001b[0m\u001b[0;34m,\u001b[0m \u001b[0;36m0\u001b[0m\u001b[0;34m)\u001b[0m\u001b[0;34m\u001b[0m\u001b[0;34m\u001b[0m\u001b[0m\n\u001b[0m\u001b[1;32m    730\u001b[0m             \u001b[0;32mexcept\u001b[0m \u001b[0mException\u001b[0m\u001b[0;34m:\u001b[0m\u001b[0;34m\u001b[0m\u001b[0;34m\u001b[0m\u001b[0m\n",
            "\u001b[0;32m/usr/local/lib/python3.7/dist-packages/jupyter_client/session.py\u001b[0m in \u001b[0;36mrecv\u001b[0;34m(self, socket, mode, content, copy)\u001b[0m\n\u001b[1;32m    802\u001b[0m         \u001b[0;32mtry\u001b[0m\u001b[0;34m:\u001b[0m\u001b[0;34m\u001b[0m\u001b[0;34m\u001b[0m\u001b[0m\n\u001b[0;32m--> 803\u001b[0;31m             \u001b[0mmsg_list\u001b[0m \u001b[0;34m=\u001b[0m \u001b[0msocket\u001b[0m\u001b[0;34m.\u001b[0m\u001b[0mrecv_multipart\u001b[0m\u001b[0;34m(\u001b[0m\u001b[0mmode\u001b[0m\u001b[0;34m,\u001b[0m \u001b[0mcopy\u001b[0m\u001b[0;34m=\u001b[0m\u001b[0mcopy\u001b[0m\u001b[0;34m)\u001b[0m\u001b[0;34m\u001b[0m\u001b[0;34m\u001b[0m\u001b[0m\n\u001b[0m\u001b[1;32m    804\u001b[0m         \u001b[0;32mexcept\u001b[0m \u001b[0mzmq\u001b[0m\u001b[0;34m.\u001b[0m\u001b[0mZMQError\u001b[0m \u001b[0;32mas\u001b[0m \u001b[0me\u001b[0m\u001b[0;34m:\u001b[0m\u001b[0;34m\u001b[0m\u001b[0;34m\u001b[0m\u001b[0m\n",
            "\u001b[0;32m/usr/local/lib/python3.7/dist-packages/zmq/sugar/socket.py\u001b[0m in \u001b[0;36mrecv_multipart\u001b[0;34m(self, flags, copy, track)\u001b[0m\n\u001b[1;32m    624\u001b[0m         \"\"\"\n\u001b[0;32m--> 625\u001b[0;31m         \u001b[0mparts\u001b[0m \u001b[0;34m=\u001b[0m \u001b[0;34m[\u001b[0m\u001b[0mself\u001b[0m\u001b[0;34m.\u001b[0m\u001b[0mrecv\u001b[0m\u001b[0;34m(\u001b[0m\u001b[0mflags\u001b[0m\u001b[0;34m,\u001b[0m \u001b[0mcopy\u001b[0m\u001b[0;34m=\u001b[0m\u001b[0mcopy\u001b[0m\u001b[0;34m,\u001b[0m \u001b[0mtrack\u001b[0m\u001b[0;34m=\u001b[0m\u001b[0mtrack\u001b[0m\u001b[0;34m)\u001b[0m\u001b[0;34m]\u001b[0m\u001b[0;34m\u001b[0m\u001b[0;34m\u001b[0m\u001b[0m\n\u001b[0m\u001b[1;32m    626\u001b[0m         \u001b[0;31m# have first part already, only loop while more to receive\u001b[0m\u001b[0;34m\u001b[0m\u001b[0;34m\u001b[0m\u001b[0;34m\u001b[0m\u001b[0m\n",
            "\u001b[0;32mzmq/backend/cython/socket.pyx\u001b[0m in \u001b[0;36mzmq.backend.cython.socket.Socket.recv\u001b[0;34m()\u001b[0m\n",
            "\u001b[0;32mzmq/backend/cython/socket.pyx\u001b[0m in \u001b[0;36mzmq.backend.cython.socket.Socket.recv\u001b[0;34m()\u001b[0m\n",
            "\u001b[0;32mzmq/backend/cython/socket.pyx\u001b[0m in \u001b[0;36mzmq.backend.cython.socket._recv_copy\u001b[0;34m()\u001b[0m\n",
            "\u001b[0;32m/usr/local/lib/python3.7/dist-packages/zmq/backend/cython/checkrc.pxd\u001b[0m in \u001b[0;36mzmq.backend.cython.checkrc._check_rc\u001b[0;34m()\u001b[0m\n",
            "\u001b[0;31mKeyboardInterrupt\u001b[0m: ",
            "\nDuring handling of the above exception, another exception occurred:\n",
            "\u001b[0;31mKeyboardInterrupt\u001b[0m                         Traceback (most recent call last)",
            "\u001b[0;32m<ipython-input-20-861ef16c20f4>\u001b[0m in \u001b[0;36m<module>\u001b[0;34m()\u001b[0m\n\u001b[1;32m      5\u001b[0m \u001b[0;34m\u001b[0m\u001b[0m\n\u001b[1;32m      6\u001b[0m \u001b[0;32mwhile\u001b[0m\u001b[0;34m(\u001b[0m\u001b[0;32mTrue\u001b[0m\u001b[0;34m)\u001b[0m\u001b[0;34m:\u001b[0m\u001b[0;34m\u001b[0m\u001b[0;34m\u001b[0m\u001b[0m\n\u001b[0;32m----> 7\u001b[0;31m   \u001b[0muser_input\u001b[0m \u001b[0;34m=\u001b[0m \u001b[0minput\u001b[0m\u001b[0;34m(\u001b[0m\u001b[0;34m)\u001b[0m\u001b[0;34m\u001b[0m\u001b[0;34m\u001b[0m\u001b[0m\n\u001b[0m\u001b[1;32m      8\u001b[0m   \u001b[0;32mif\u001b[0m \u001b[0muser_input\u001b[0m\u001b[0;34m.\u001b[0m\u001b[0mlower\u001b[0m\u001b[0;34m(\u001b[0m\u001b[0;34m)\u001b[0m \u001b[0;32min\u001b[0m \u001b[0mexit_list\u001b[0m\u001b[0;34m:\u001b[0m\u001b[0;34m\u001b[0m\u001b[0;34m\u001b[0m\u001b[0m\n\u001b[1;32m      9\u001b[0m     \u001b[0mprint\u001b[0m\u001b[0;34m(\u001b[0m\u001b[0;34m'Doc bot: Vi snakkes ved senere !'\u001b[0m\u001b[0;34m)\u001b[0m\u001b[0;34m\u001b[0m\u001b[0;34m\u001b[0m\u001b[0m\n",
            "\u001b[0;32m/usr/local/lib/python3.7/dist-packages/ipykernel/kernelbase.py\u001b[0m in \u001b[0;36mraw_input\u001b[0;34m(self, prompt)\u001b[0m\n\u001b[1;32m    702\u001b[0m             \u001b[0mself\u001b[0m\u001b[0;34m.\u001b[0m\u001b[0m_parent_ident\u001b[0m\u001b[0;34m,\u001b[0m\u001b[0;34m\u001b[0m\u001b[0;34m\u001b[0m\u001b[0m\n\u001b[1;32m    703\u001b[0m             \u001b[0mself\u001b[0m\u001b[0;34m.\u001b[0m\u001b[0m_parent_header\u001b[0m\u001b[0;34m,\u001b[0m\u001b[0;34m\u001b[0m\u001b[0;34m\u001b[0m\u001b[0m\n\u001b[0;32m--> 704\u001b[0;31m             \u001b[0mpassword\u001b[0m\u001b[0;34m=\u001b[0m\u001b[0;32mFalse\u001b[0m\u001b[0;34m,\u001b[0m\u001b[0;34m\u001b[0m\u001b[0;34m\u001b[0m\u001b[0m\n\u001b[0m\u001b[1;32m    705\u001b[0m         )\n\u001b[1;32m    706\u001b[0m \u001b[0;34m\u001b[0m\u001b[0m\n",
            "\u001b[0;32m/usr/local/lib/python3.7/dist-packages/ipykernel/kernelbase.py\u001b[0m in \u001b[0;36m_input_request\u001b[0;34m(self, prompt, ident, parent, password)\u001b[0m\n\u001b[1;32m    732\u001b[0m             \u001b[0;32mexcept\u001b[0m \u001b[0mKeyboardInterrupt\u001b[0m\u001b[0;34m:\u001b[0m\u001b[0;34m\u001b[0m\u001b[0;34m\u001b[0m\u001b[0m\n\u001b[1;32m    733\u001b[0m                 \u001b[0;31m# re-raise KeyboardInterrupt, to truncate traceback\u001b[0m\u001b[0;34m\u001b[0m\u001b[0;34m\u001b[0m\u001b[0;34m\u001b[0m\u001b[0m\n\u001b[0;32m--> 734\u001b[0;31m                 \u001b[0;32mraise\u001b[0m \u001b[0mKeyboardInterrupt\u001b[0m\u001b[0;34m\u001b[0m\u001b[0;34m\u001b[0m\u001b[0m\n\u001b[0m\u001b[1;32m    735\u001b[0m             \u001b[0;32melse\u001b[0m\u001b[0;34m:\u001b[0m\u001b[0;34m\u001b[0m\u001b[0;34m\u001b[0m\u001b[0m\n\u001b[1;32m    736\u001b[0m                 \u001b[0;32mbreak\u001b[0m\u001b[0;34m\u001b[0m\u001b[0;34m\u001b[0m\u001b[0m\n",
            "\u001b[0;31mKeyboardInterrupt\u001b[0m: "
          ]
        }
      ],
      "source": [
        "#Start the chat\n",
        "print('Doc bot: Jeg kan svare på dine spørgsmål om forskellige sygdomme. Hvis du vil stoppe samtalen, skriv farvel.')\n",
        "\n",
        "exit_list = ['exit', 'farvel', 'vi ses']\n",
        "\n",
        "while(True):\n",
        "  user_input = input()\n",
        "  if user_input.lower() in exit_list:\n",
        "    print('Doc bot: Vi snakkes ved senere !')\n",
        "    break\n",
        "  else:\n",
        "    if greeting_response(user_input) != None:\n",
        "      print('Doc bot: '+greeting_response(user_input))\n",
        "    else:\n",
        "      print('Doc bot: '+bot_response(user_input))\n",
        "    \n",
        "while(True):\n",
        "  user_input1 = input()\n",
        "  if user_input1.lower() in exit_list:\n",
        "    print('Doc bot: Vi snakkes ved senere !')\n",
        "    break\n",
        "  else:\n",
        "    if greeting_response(user_input1) != None:\n",
        "      print('Doc bot: '+greeting_response(user_input1))\n",
        "    else:\n",
        "      print('Doc bot: '+bot_response1(user_input1))\n"
      ]
    }
  ],
  "metadata": {
    "colab": {
      "collapsed_sections": [],
      "name": "Python Chatbot.ipynb",
      "provenance": [],
      "mount_file_id": "https://gist.github.com/Luchio9/eecda902dad7b0a0c0ac8eeae581c95e#file-python-chatbot-ipynb",
      "authorship_tag": "ABX9TyOlBapwM6bLSKZHKax8i7oY",
      "include_colab_link": true
    },
    "kernelspec": {
      "display_name": "Python 3",
      "name": "python3"
    },
    "language_info": {
      "name": "python"
    }
  },
  "nbformat": 4,
  "nbformat_minor": 0
}